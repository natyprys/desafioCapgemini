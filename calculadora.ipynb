{
  "nbformat": 4,
  "nbformat_minor": 0,
  "metadata": {
    "colab": {
      "name": "calculadora.python ",
      "provenance": [],
      "authorship_tag": "ABX9TyOw7DzvvNHVK70+3M/bMRXV",
      "include_colab_link": true
    },
    "kernelspec": {
      "name": "python3",
      "display_name": "Python 3"
    },
    "language_info": {
      "name": "python"
    }
  },
  "cells": [
    {
      "cell_type": "markdown",
      "metadata": {
        "id": "view-in-github",
        "colab_type": "text"
      },
      "source": [
        "<a href=\"https://colab.research.google.com/github/natyprys/desafioCapgemini/blob/main/calculadora.ipynb\" target=\"_parent\"><img src=\"https://colab.research.google.com/assets/colab-badge.svg\" alt=\"Open In Colab\"/></a>"
      ]
    },
    {
      "cell_type": "markdown",
      "metadata": {
        "id": "RcjF0DQldbnK"
      },
      "source": [
        "## O problema\n",
        "\n",
        "A agência **Divulga Tudo** precisa de um programa para gerenciar os seus anúncios online. O objetivo dos anúncios faz parte de uma campanha nas redes sociais. O sistema de gerenciamento permitirá a gestão do anúncio e o rastreio dos resultados da campanha."
      ]
    },
    {
      "cell_type": "markdown",
      "metadata": {
        "id": "GuWnLzjaVtmv"
      },
      "source": [
        "#  1ª Parte - Uma calculadora de alcance de anúncio online.\n",
        "Considere os seguintes critérios fictícios para desenvolver a calculadora de alcance de anúncio:\n",
        "\n",
        "Baseados em dados de análise de anúncios anteriores, a agência tem os seguintes dados:\n",
        "\n",
        "- A cada 100 pessoas que visualizam o anúncio 12 clicam nele.\n",
        "\n",
        "- A cada 20 pessoas que clicam no anúncio 3 compartilham nas redes sociais.\n",
        "\n",
        "- A cada compartilhamento nas redes sociais gera 40 novas visualizações.\n",
        "\n",
        "- 30 pessoas visualizam o anúncio original (não compartilhado) a cada R$ 1,00 investido.\n",
        "\n",
        "- O mesmo anúncio é compartilhado no máximo 4 vezes em sequência\n",
        "\n",
        "\n",
        "(1ª pessoa -> compartilha -> 2ª pessoa -> compartilha - > 3ª pessoa -> compartilha -> 4ª pessoa) "
      ]
    },
    {
      "cell_type": "code",
      "metadata": {
        "id": "AOmgca3ZXH2n",
        "colab": {
          "base_uri": "https://localhost:8080/"
        },
        "outputId": "49a3601f-b9a5-474a-ba18-7febefe53ada"
      },
      "source": [
        "investido = float(input('Valor investido em R$:'))\n",
        "\n",
        "# Visualizações anúncio original = visualizaOriginal\n",
        "visuOriginal = int(investido * 30)\n",
        "print ('1. Quantidade de visualizações do anúncio original: ' +str(visuOriginal))\n",
        "\n",
        "\n",
        "# Quantidade de pessoas que clicou no anúncio original (12% = 0,12) = clicamOriginal\n",
        "clicamOriginal = int(visuOriginal*0.12)\n",
        "print ('2. Quantidade de cliques no anúncio original: ' + str(clicamOriginal))\n",
        "\n",
        "# A cada 20 pessoas em clicamOriginal, 3 pessoas compartilham nas redes sociais\n",
        "compartilhamento= int(clicamOriginal/20*3)\n",
        "\n",
        "# O mesmo anúncio é compartilhado no máximo 4 vezes em sequência\n",
        "compartilhamento= int(compartilhamento*4)\n",
        "print ('3. Quantidade de compartilhamentos nas redes sociais aproximada:' + str(compartilhamento))\n",
        "\n",
        "# A cada compartilhamento nas redes sociais gera 40 novas visualizações.\n",
        "novasVisualizacoes = int(compartilhamento*40)\n",
        "print ('4. Quantidade de visualizações nas redes sociais aproximada: ' + str(novasVisualizacoes ))\n",
        "\n",
        "\n",
        "# Projeção aproximada da quantidade máxima de pessoas que visualizarão o mesmo anuncio\n",
        "visuTotal= int(visuOriginal + novasVisualizacoes)\n",
        "print ('5. Visualizações totais aproximada: ' + str(visuTotal) )\n"
      ],
      "execution_count": 21,
      "outputs": [
        {
          "output_type": "stream",
          "text": [
            "Valor investido em R$:20\n",
            "1. Quantidade de visualizações do anúncio original: 600\n",
            "2. Quantidade de cliques no anúncio original: 72\n",
            "3. Quantidade de compartilhamentos nas redes sociais:40\n",
            "4. Quantidade de visualizações nas redes sociais: 1600\n",
            "5. Visualizações totais: 2200\n"
          ],
          "name": "stdout"
        }
      ]
    }
  ]
}